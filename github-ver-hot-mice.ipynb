{
 "cells": [
  {
   "cell_type": "markdown",
   "metadata": {},
   "source": [
    "# Comparable response of wild rodent gut microbiome to anthropogenic habitat contamination\n",
    "\n",
    "\n",
    "## Abstract\n",
    "\n",
    "Species identity is thought to dominate over environment in shaping wild rodent gut microbiota, but it remains unknown whether the responses of host gut microbiota to shared anthropogenic habitat impacts are species-specific or if the general gut microbiota response is similar across host species. Here, we compare the influence of exposure to radionuclide contamination on the gut microbiota of four wild mouse species: *Apodemus flavicollis*, *A. sylvaticus*, *A. speciosus*, *A. argenteus*. Building on the evidence that radiation impacts bank vole (*Myodes glareolus*) gut microbiota, we hypothesised that radiation exposure has general impact on rodent gut microbiota. Because we sampled (n=288) two species pairs of *Apodemus* mice that occur in sympatry in habitats affected by the Chernobyl and Fukushima nuclear accidents, these comparisons provide an opportunity for a general assessment of the effects of exposure to environmental contamination (radionuclides) on gut microbiota across host phylogeny and geographical areas. In general agreement with our hypothesis, analyses of bacterial 16S rRNA gene sequences revealed that radiation exposure alters the gut microbiota composition and structure in three out of the four species of *Apodemus* mice. The notable lack of association between the gut microbiota and soil radionuclide contamination in one mouse species from Fukushima (*A. argenteus*) likely reflects host “radiation escape” through its unique tree-dwelling lifestyle. The finding that host ecology can modulate effects of radiation exposure offers an interesting counterpoint for future analyses into effects of radiation or any other toxic exposure on host and its associated microbiota. Our data show that exposure to radionuclide contamination associates with comparable gut microbiota responses across multiple species of rodents. \n",
    "\n",
    "\n",
    "### Analysis Notebook\n",
    "\n",
    "This notebook contains commands to process raw read data and reproduce the qiime2 analyses. This [repository](https://github.com/alavrinienko/hot-mice) provides the main data files, *i.e.* metadata, dada2 feature-tables, representative sequences, phylogenetic tree and taxonomy. It should be possible to generate the rest of the data using these files and commands. The raw sequence data for this study have been deposited in the European Nucleotide Archive (ENA) at EMBL-EBI under accession number [PRJEB44039](https://www.ebi.ac.uk/ena/browser/view/PRJEB44039). To analyse these data we have used computing resources and infrastructure provided by [the Finnish Centre for Scientific Computing (CSC)](https://www.csc.fi/csc).\n",
    "\n",
    "### Requirements\n",
    "\n",
    "qiime2 is required to run most of the commands described below (unless otherwise stated, the 2019.4 qiime2 version was used for analyses). To install qiime2 follow [these instructions](https://docs.qiime2.org/2019.4/install/)."
   ]
  },
  {
   "cell_type": "markdown",
   "metadata": {},
   "source": [
    "## data import\n",
    "\n",
    "In this study, we have sampled 288 mice, these include samples from 4 *Apodemus* species inhabiting areas surrounding the Chernobyl and Fukushima nuclear accidents sites. The 250PE read data were generated using the Illumina MiSeq platform. First, we need to import sequencing data to use with the qiime2 via manifest file. The manifest file will inform qiime about samples id's, full path and sequences direction (forward,reverse). See importing tutorial for more details [here](https://docs.qiime2.org/2019.4/tutorials/importing/).\n",
    "\n",
    "Note that 16 samples were *not* analysed due to low number (<600) of reads per sample. The following samples were removed from the data set prior to import (n=16): C228, KC45, C265, C186, C309, KC20, KC5, KC22, F6, C192, F54, C259, C299, KC12, C267, C258. This should leave the total of 272 samples in this data set."
   ]
  },
  {
   "cell_type": "code",
   "execution_count": null,
   "metadata": {},
   "outputs": [],
   "source": [
    "!qiime tools import \\\n",
    "    --type 'SampleData[PairedEndSequencesWithQuality]' \\\n",
    "    --input-path apo272_dada2_manifest.txt \\\n",
    "    --input-format PairedEndFastqManifestPhred33V2 \\\n",
    "    --output-path apo272_mani-demux_paired-end.qza"
   ]
  },
  {
   "cell_type": "markdown",
   "metadata": {},
   "source": [
    "The fastq files were successfully imported into the working directory. We would want to summarize and visualize the data (e.g. imported qiime2 *qza* file) using the [qiime2 viewer](https://view.qiime2.org)."
   ]
  },
  {
   "cell_type": "code",
   "execution_count": null,
   "metadata": {},
   "outputs": [],
   "source": [
    "!qiime demux summarize \\\n",
    "--i-data apo272_mani-demux_paired-end.qza \\\n",
    "--o-visualization apo272_mani-demux_paired-end.qzv"
   ]
  },
  {
   "cell_type": "markdown",
   "metadata": {},
   "source": [
    "The generated interactive quality plots display the reads quality in defined position according to the Phred33 format. The median quality score for both forward and reverse reads was over 37, however we also observed some quality drop in the end of the reverse reads. To ensure excellent data for downstream analyses, we truncated forward reads at position 243 (the minimum shared length across all reads), and reverse reads at position 176.\n",
    "\n",
    "Of important note, these data still contain the 515F/806R EMP primers. These, can be removed while running dada2 using trim-left parameter (the forward primer is 19 bp, and the reverse primer is 20 bp)."
   ]
  },
  {
   "cell_type": "markdown",
   "metadata": {},
   "source": [
    "## denoising and the amplicon sequence variants (ASVs) picking using dada2\n",
    "\n",
    "We used the [dada2](https://docs.qiime2.org/2019.4/plugins/available/dada2/denoise-paired/) implemented in qiime2 for denoising and the amplicon sequence variants (ASVs) picking. We adjusted parameters within the dada2 based on the information from the quality plots generated above."
   ]
  },
  {
   "cell_type": "code",
   "execution_count": null,
   "metadata": {},
   "outputs": [],
   "source": [
    "!qiime dada2 denoise-paired \\\n",
    "    --i-demultiplexed-seqs apo272_mani-demux_paired-end.qza \\\n",
    "    --p-trim-left-f 19 \\\n",
    "    --p-trim-left-r 20 \\\n",
    "    --p-trunc-len-f 243 \\\n",
    "    --p-trunc-len-r 176 \\\n",
    "    --p-n-threads 0 \\\n",
    "    --o-representative-sequences /dada2-apo272/apo272-rep-seqs-dada2.qza \\\n",
    "    --o-table /dada2-apo272/apo272-table-dada2.qza \\\n",
    "    --o-denoising-stats /dada2-apo272/apo272-denoising-stats-dada2.qza"
   ]
  },
  {
   "cell_type": "code",
   "execution_count": null,
   "metadata": {},
   "outputs": [],
   "source": [
    "#add metadata and examine dada2 feature-table\n",
    "!qiime feature-table summarize \\\n",
    "  --i-table dada2-apo272/apo272-table-dada2.qza \\\n",
    "  --o-visualization dada2-apo272/apo272-table-dada2.qzv \\\n",
    "  --m-sample-metadata-file apodemus_metadata191119.txt"
   ]
  },
  {
   "cell_type": "code",
   "execution_count": null,
   "metadata": {},
   "outputs": [],
   "source": [
    "#examine representative sequences\n",
    "!qiime feature-table tabulate-seqs \\\n",
    " --i-data dada2-apo272/apo272-rep-seqs-dada2.qza \\\n",
    " --o-visualization dada2-apo272/apo272-rep-seqs-dada2.qzv"
   ]
  },
  {
   "cell_type": "code",
   "execution_count": null,
   "metadata": {},
   "outputs": [],
   "source": [
    "#examine denoising stats\n",
    "!qiime metadata tabulate \\\n",
    " --m-input-file dada2-apo272/apo272-denoising-stats-dada2.qza \\\n",
    " --o-visualization dada2-apo272/apo272-denoising-stats-dada2.qzv"
   ]
  },
  {
   "cell_type": "markdown",
   "metadata": {},
   "source": [
    "## metadata\n",
    "\n",
    "Note that all the metadata associated with the samples in this study can be found [here](https://github.com/alavrinienko/hot-mice). Note that the file 'metadata-apo272.txt' is the most complete version of the mice metadata, which in this document are sometimes referred to as 'apodemus_metadata191119.txt' or 'apodemus_metadata221119.txt' or 'apodemus_metadata181219.txt' or 'apodemus_metadata181219_rev1ME.txt', etc. The metadata associated with the *comparative analysis: voles and mice data sets* section (see below) can be found in the 'metadata-vole137-apo272.txt' file."
   ]
  },
  {
   "cell_type": "markdown",
   "metadata": {},
   "source": [
    "## phylogenetics\n",
    "\n",
    "Construct a phylogenetic tree using FastTree, and use the longest branch to root the tree (‘midrooting’)."
   ]
  },
  {
   "cell_type": "code",
   "execution_count": null,
   "metadata": {},
   "outputs": [],
   "source": [
    "#first, align the representative sequences\n",
    "!qiime alignment mafft \\\n",
    "  --i-sequences dada2-apo272/apo272-rep-seqs-dada2.qza \\\n",
    "  --o-alignment dada2-apo272/aligned-apo272-rep-seqs-dada2.qza\n",
    "\n",
    "#mask phyloginetically unimportant sites\n",
    "!qiime alignment mask \\\n",
    "  --i-alignment dada2-apo272/aligned-apo272-rep-seqs-dada2.qza \\\n",
    "  --o-masked-alignment dada2-apo272/masked-aligned-apo272-rep-seqs-dada2.qza\n",
    "\n",
    "#create a tree\n",
    "!qiime phylogeny fasttree \\\n",
    "  --i-alignment dada2-apo272/masked-aligned-apo272-rep-seqs-dada2.qza \\\n",
    "  --o-tree dada2-apo272/unrooted-apo272-tree-dada2.qza\n",
    "\n",
    "#root generated tree at midpoint\n",
    "!qiime phylogeny midpoint-root \\\n",
    "  --i-tree dada2-apo272/unrooted-apo272-tree-dada2.qza \\\n",
    "  --o-rooted-tree dada2-apo272/rooted-apo272-tree-dada2.qza"
   ]
  },
  {
   "cell_type": "markdown",
   "metadata": {},
   "source": [
    "## feature-table filtering\n",
    "\n",
    "Remove low-abundance features from the feature-table (features with the frequency <10 across all samples). It is important to filter out potential errors/artifacts that were retained during the denoising step, thus this needs to be done before the downstream core metrics analysis. Such features filtering strategy (with the cut off of 10) was adopted from the --p-min-reads default parameters in the [qiime2 deblur workflow](https://docs.qiime2.org/2019.4/plugins/available/deblur/denoise-16S/), which retains only features appearing at least min_reads 10 times across all samples in the resulting feature-table by default."
   ]
  },
  {
   "cell_type": "code",
   "execution_count": null,
   "metadata": {},
   "outputs": [],
   "source": [
    "#filter features with frequency less than 10\n",
    "!qiime feature-table filter-features \\\n",
    "  --i-table dada2-apo272/apo272-table-dada2.qza \\\n",
    "  --p-min-frequency 10 \\\n",
    "  --o-filtered-table dada2-apo272/apo272-table-dada2-filtered10.qza"
   ]
  },
  {
   "cell_type": "code",
   "execution_count": null,
   "metadata": {
    "scrolled": true
   },
   "outputs": [],
   "source": [
    "#summarize filtered feature-table\n",
    "!qiime feature-table summarize \\\n",
    "  --i-table dada2-apo272/apo272-table-dada2-filtered10.qza \\\n",
    "  --o-visualization dada2-apo272/apo272-table-dada2-filtered10.qzv \\\n",
    "  --m-sample-metadata-file apodemus_metadata191119.txt"
   ]
  },
  {
   "cell_type": "markdown",
   "metadata": {},
   "source": [
    "## rarefaction\n",
    "\n",
    "Examine sequencing depth across samples that were processed using dada2 (and filtered), and choose the even sampling depth for rarefaction. Use the median frequency across samples in the dataset (38599). This limit will be used to generate alpha rarefaction curves to examine sequencing coverage."
   ]
  },
  {
   "cell_type": "code",
   "execution_count": null,
   "metadata": {},
   "outputs": [],
   "source": [
    "#make alpha-rarefaction plot and estimate community coverage\n",
    "!qiime diversity alpha-rarefaction \\\n",
    " --i-table dada2-apo272/apo272-table-dada2-filtered10.qza \\\n",
    " --i-phylogeny dada2-apo272/rooted-apo272-tree-dada2.qza \\\n",
    " --p-max-depth 38599 \\\n",
    " --p-metrics faith_pd \\\n",
    " --p-metrics shannon \\\n",
    " --p-metrics observed_otus \\\n",
    " --p-metrics chao1 \\\n",
    " --m-metadata-file apodemus_metadata191119.txt \\\n",
    " --o-visualization dada2-apo272/alpha-rare-apo272-dada2-filtered10.qzv"
   ]
  },
  {
   "cell_type": "markdown",
   "metadata": {},
   "source": [
    "Based on the alpha-rarefaction and the table generated by dada2, we would rarefy the data set at the 10553 (minimum sample frequency) reads per sample. This is because the rarefaction curve level off at this value. With this even sampling depth we likely sample most of the community, while analysing all the samples."
   ]
  },
  {
   "cell_type": "code",
   "execution_count": null,
   "metadata": {},
   "outputs": [],
   "source": [
    "#run core-metrics pipeline at a given sequencing depth, using dada2 filtered10 data\n",
    "!qiime diversity core-metrics-phylogenetic \\\n",
    "  --i-phylogeny dada2-apo272/rooted-apo272-tree-dada2.qza \\\n",
    "  --i-table dada2-apo272/apo272-table-dada2-filtered10.qza \\\n",
    "  --p-sampling-depth 10553 \\\n",
    "  --m-metadata-file apodemus_metadata191119.txt \\\n",
    "  --output-dir dada2-apo272/core-metrics-apo272-dada2-filtered10-results/"
   ]
  },
  {
   "cell_type": "markdown",
   "metadata": {},
   "source": [
    "## taxonomic analysis\n",
    "\n",
    "Upload the GreenGenes 'reference data base'. This is a pre-trained Naive Bayes classifier for the use with the q2-feature-classifier plugin. This classifier was trained on the Greengenes 13_8 99% OTUs, where the sequences have been trimmed to only include 250 bases from the region of the 16S that was sequenced in this study (the V4 region, bound by the 515F/806R EMP primers). See more information of the pre-trained classifiers [here](https://docs.qiime2.org/2019.4/data-resources/) (MD5:3afcc86150423263b3a7d983789ad0a3)."
   ]
  },
  {
   "cell_type": "code",
   "execution_count": null,
   "metadata": {},
   "outputs": [],
   "source": [
    "!qiime feature-classifier classify-sklearn \\\n",
    "  --i-classifier gg-13-8-99-515-806-nb-classifier.qza \\\n",
    "  --i-reads dada2-apo272/apo272-rep-seqs-dada2.qza \\\n",
    "  --o-classification dada2-apo272/apo272-dada2-taxonomy.qza\n",
    "\n",
    "!qiime metadata tabulate \\\n",
    "  --m-input-file dada2-apo272/apo272-dada2-taxonomy.qza \\\n",
    "  --o-visualization dada2-apo272/apo272-dada2-taxonomy.qzv"
   ]
  },
  {
   "cell_type": "markdown",
   "metadata": {},
   "source": [
    "Examine the microbiota taxonomic composition with the interactive bar plots. Rarefaction procedure in the core-metric pipeline above, samples reads at random. Thus, for the complete match in the data comparison, examine the rarefied feature-table found in [this](https://github.com/alavrinienko/hot-mice) repository at GitHub."
   ]
  },
  {
   "cell_type": "code",
   "execution_count": null,
   "metadata": {},
   "outputs": [],
   "source": [
    "#create the taxa bar plots using the 'filtered10' and rarefied at 10553 reads/sample feature-table\n",
    "!qiime taxa barplot \\\n",
    "  --i-table dada2-apo272/core-metrics-apo272-dada2-filtered10-results/rarefied_table.qza \\\n",
    "  --i-taxonomy dada2-apo272/apo272-dada2-taxonomy.qza \\\n",
    "  --m-metadata-file apodemus_metadata191119.txt \\\n",
    "  --o-visualization dada2-apo272/apo272-dada2-filtered10-even10553-taxa-bar-plots.qzv"
   ]
  },
  {
   "cell_type": "markdown",
   "metadata": {},
   "source": [
    "\n",
    "## subsample the feature-table\n",
    "Use the rarefied feature-table to subsample the data set into subsets for analyses according to host species and locality (or some other combination, see below)."
   ]
  },
  {
   "cell_type": "code",
   "execution_count": null,
   "metadata": {},
   "outputs": [],
   "source": [
    "!qiime feature-table filter-samples \\\n",
    "  --i-table dada2-apo272/core-metrics-apo272-dada2-filtered10-results/rarefied_table.qza \\\n",
    "  --m-metadata-file apodemus_metadata191119.txt \\\n",
    "  --p-where \"Study='Chernobyl'\" \\\n",
    "  --o-filtered-table dada2-apo272/rarefied_table_chernobyl142.qza"
   ]
  },
  {
   "cell_type": "code",
   "execution_count": null,
   "metadata": {},
   "outputs": [],
   "source": [
    "!qiime feature-table filter-samples \\\n",
    "  --i-table dada2-apo272/core-metrics-apo272-dada2-filtered10-results/rarefied_table.qza \\\n",
    "  --m-metadata-file apodemus_metadata191119.txt \\\n",
    "  --p-where \"Study='Fukushima'\" \\\n",
    "  --o-filtered-table dada2-apo272/rarefied_table_fukushima130.qza"
   ]
  },
  {
   "cell_type": "code",
   "execution_count": null,
   "metadata": {},
   "outputs": [],
   "source": [
    "#summarize filtered 'Chernobyl-only' feature-table\n",
    "!qiime feature-table summarize \\\n",
    "  --i-table dada2-apo272/rarefied_table_chernobyl142.qza \\\n",
    "  --o-visualization dada2-apo272/rarefied_table_chernobyl142.qzv \\\n",
    "  --m-sample-metadata-file apodemus_metadata191119.txt\n",
    "\n",
    "#summarize filtered 'Fukushima-only'feature-table\n",
    "!qiime feature-table summarize \\\n",
    "  --i-table dada2-apo272/rarefied_table_fukushima130.qza \\\n",
    "  --o-visualization dada2-apo272/rarefied_table_fukushima130.qzv \\\n",
    "  --m-sample-metadata-file apodemus_metadata191119.txt"
   ]
  },
  {
   "cell_type": "markdown",
   "metadata": {},
   "source": [
    "Run the qiime2 core-metrics-phylogenetic pipeline on the filtered 'chernobyl142.qza' and 'fukushima130.qza' feature-tables. Note that here (and during similar steps below..) we still provided the rarefaction depth of 10553, yet the data were already rarefied and each sample has even 10553 reads, so no changes to the data can happen due to this (sanity checked - OK)."
   ]
  },
  {
   "cell_type": "code",
   "execution_count": null,
   "metadata": {
    "scrolled": false
   },
   "outputs": [],
   "source": [
    "#run core-metrics pipeline at a given sequencing depth, using dada2 filtered10 CHERNOBYL data\n",
    "!qiime diversity core-metrics-phylogenetic \\\n",
    "  --i-phylogeny dada2-apo272/rooted-apo272-tree-dada2.qza \\\n",
    "  --i-table dada2-apo272/rarefied_table_chernobyl142.qza \\\n",
    "  --p-sampling-depth 10553 \\\n",
    "  --m-metadata-file apodemus_metadata191119.txt \\\n",
    "  --output-dir dada2-apo272/core-metrics-chernobyl142-dada2-filtered10-results/"
   ]
  },
  {
   "cell_type": "code",
   "execution_count": null,
   "metadata": {},
   "outputs": [],
   "source": [
    "#run core-metrics pipeline at a given sequencing depth, using dada2 filtered10 FUKUSHIMA data\n",
    "!qiime diversity core-metrics-phylogenetic \\\n",
    "  --i-phylogeny dada2-apo272/rooted-apo272-tree-dada2.qza \\\n",
    "  --i-table dada2-apo272/rarefied_table_fukushima130.qza \\\n",
    "  --p-sampling-depth 10553 \\\n",
    "  --m-metadata-file apodemus_metadata191119.txt \\\n",
    "  --output-dir dada2-apo272/core-metrics-fukushima130-dada2-filtered10-results/"
   ]
  },
  {
   "cell_type": "markdown",
   "metadata": {},
   "source": [
    "Use the filtered 'chernobyl142.qza' feature-table (CHERNOBYL data only) to subsample the data set into subsets for analyses according to host species - to include either samples from *Apodemus sylvaticus* OR *Apodemus flavicollis* only."
   ]
  },
  {
   "cell_type": "code",
   "execution_count": null,
   "metadata": {},
   "outputs": [],
   "source": [
    "#keep Apodemus sylvaticus samples only\n",
    "!qiime feature-table filter-samples \\\n",
    "  --i-table dada2-apo272/rarefied_table_chernobyl142.qza \\\n",
    "  --m-metadata-file apodemus_metadata221119.txt \\\n",
    "  --p-where \"ApodemusSpecies='ApodemusSylvaticus'\" \\\n",
    "  --o-filtered-table dada2-apo272/rarefied_table_chernobyl27_sylvaticus.qza"
   ]
  },
  {
   "cell_type": "code",
   "execution_count": null,
   "metadata": {},
   "outputs": [],
   "source": [
    "#summarize filtered feature-table\n",
    "!qiime feature-table summarize \\\n",
    "  --i-table dada2-apo272/rarefied_table_chernobyl27_sylvaticus.qza \\\n",
    "  --o-visualization dada2-apo272/rarefied_table_chernobyl27_sylvaticus.qzv \\\n",
    "  --m-sample-metadata-file apodemus_metadata221119.txt"
   ]
  },
  {
   "cell_type": "code",
   "execution_count": null,
   "metadata": {},
   "outputs": [],
   "source": [
    "#keep Apodemus flavicollis samples only\n",
    "!qiime feature-table filter-samples \\\n",
    "  --i-table dada2-apo272/rarefied_table_chernobyl142.qza \\\n",
    "  --m-metadata-file apodemus_metadata221119.txt \\\n",
    "  --p-where \"ApodemusSpecies='ApodemusFlavicollis'\" \\\n",
    "  --o-filtered-table dada2-apo272/rarefied_table_chernobyl115_flavicollis.qza"
   ]
  },
  {
   "cell_type": "code",
   "execution_count": null,
   "metadata": {},
   "outputs": [],
   "source": [
    "#summarize filtered feature-table\n",
    "!qiime feature-table summarize \\\n",
    "  --i-table dada2-apo272/rarefied_table_chernobyl115_flavicollis.qza \\\n",
    "  --o-visualization dada2-apo272/rarefied_table_chernobyl115_flavicollis.qzv \\\n",
    "  --m-sample-metadata-file apodemus_metadata221119.txt"
   ]
  },
  {
   "cell_type": "code",
   "execution_count": null,
   "metadata": {},
   "outputs": [],
   "source": [
    "#run core-metrics pipeline at a given sequencing depth, using dada2 filtered10 A.sylvaticus data\n",
    "!qiime diversity core-metrics-phylogenetic \\\n",
    "  --i-phylogeny dada2-apo272/rooted-apo272-tree-dada2.qza \\\n",
    "  --i-table dada2-apo272/rarefied_table_chernobyl27_sylvaticus.qza \\\n",
    "  --p-sampling-depth 10553 \\\n",
    "  --m-metadata-file apodemus_metadata221119.txt \\\n",
    "  --output-dir dada2-apo272/core-metrics-chernobyl27-sylvaticus-dada2-filtered10-results/"
   ]
  },
  {
   "cell_type": "code",
   "execution_count": null,
   "metadata": {},
   "outputs": [],
   "source": [
    "#run core-metrics pipeline at a given sequencing depth, using dada2 filtered10 A.flavicollis data\n",
    "!qiime diversity core-metrics-phylogenetic \\\n",
    "  --i-phylogeny dada2-apo272/rooted-apo272-tree-dada2.qza \\\n",
    "  --i-table dada2-apo272/rarefied_table_chernobyl115_flavicollis.qza \\\n",
    "  --p-sampling-depth 10553 \\\n",
    "  --m-metadata-file apodemus_metadata221119.txt \\\n",
    "  --output-dir dada2-apo272/core-metrics-chernobyl115-flavicollis-dada2-filtered10-results/"
   ]
  },
  {
   "cell_type": "markdown",
   "metadata": {},
   "source": [
    "Use the filtered 'fukushima130.qza' feature-table (FUKUSHIMA data only) to subsample the data set into subsets for analyses according to host species - to include either samples from *Apodemus argenteus* OR *Apodemus speciosus* only."
   ]
  },
  {
   "cell_type": "code",
   "execution_count": null,
   "metadata": {},
   "outputs": [],
   "source": [
    "#keep Apodemus argenteus (small) samples only\n",
    "!qiime feature-table filter-samples \\\n",
    "  --i-table dada2-apo272/rarefied_table_fukushima130.qza \\\n",
    "  --m-metadata-file apodemus_metadata221119.txt \\\n",
    "  --p-where \"ApodemusSpecies='ApodemusArgenteusSmall'\" \\\n",
    "  --o-filtered-table dada2-apo272/rarefied_table_fukushima53_argenteus_small.qza"
   ]
  },
  {
   "cell_type": "code",
   "execution_count": null,
   "metadata": {},
   "outputs": [],
   "source": [
    "#summarize filtered feature-table\n",
    "!qiime feature-table summarize \\\n",
    "  --i-table dada2-apo272/rarefied_table_fukushima53_argenteus_small.qza \\\n",
    "  --o-visualization dada2-apo272/rarefied_table_fukushima53_argenteus_small.qzv \\\n",
    "  --m-sample-metadata-file apodemus_metadata221119.txt"
   ]
  },
  {
   "cell_type": "code",
   "execution_count": null,
   "metadata": {},
   "outputs": [],
   "source": [
    "#keep Apodemus speciosus (large) samples only\n",
    "!qiime feature-table filter-samples \\\n",
    "  --i-table dada2-apo272/rarefied_table_fukushima130.qza \\\n",
    "  --m-metadata-file apodemus_metadata221119.txt \\\n",
    "  --p-where \"ApodemusSpecies='ApodemusSpeciosusLarge'\" \\\n",
    "  --o-filtered-table dada2-apo272/rarefied_table_fukushima77_speciosus_large.qza"
   ]
  },
  {
   "cell_type": "code",
   "execution_count": null,
   "metadata": {},
   "outputs": [],
   "source": [
    "#summarize filtered feature-table\n",
    "!qiime feature-table summarize \\\n",
    "  --i-table dada2-apo272/rarefied_table_fukushima77_speciosus_large.qza \\\n",
    "  --o-visualization dada2-apo272/rarefied_table_fukushima77_speciosus_large.qzv \\\n",
    "  --m-sample-metadata-file apodemus_metadata221119.txt"
   ]
  },
  {
   "cell_type": "code",
   "execution_count": null,
   "metadata": {},
   "outputs": [],
   "source": [
    "#run core-metrics pipeline at a given sequencing depth, using dada2 filtered10 A.argenteus data\n",
    "!qiime diversity core-metrics-phylogenetic \\\n",
    "  --i-phylogeny dada2-apo272/rooted-apo272-tree-dada2.qza \\\n",
    "  --i-table dada2-apo272/rarefied_table_fukushima53_argenteus_small.qza \\\n",
    "  --p-sampling-depth 10553 \\\n",
    "  --m-metadata-file apodemus_metadata221119.txt \\\n",
    "  --output-dir dada2-apo272/core-metrics-fukushima53-argenteus-small-dada2-filtered10-results/"
   ]
  },
  {
   "cell_type": "code",
   "execution_count": null,
   "metadata": {},
   "outputs": [],
   "source": [
    "#run core-metrics pipeline at a given sequencing depth, using dada2 filtered10 A.speciosus data\n",
    "!qiime diversity core-metrics-phylogenetic \\\n",
    "  --i-phylogeny dada2-apo272/rooted-apo272-tree-dada2.qza \\\n",
    "  --i-table dada2-apo272/rarefied_table_fukushima77_speciosus_large.qza \\\n",
    "  --p-sampling-depth 10553 \\\n",
    "  --m-metadata-file apodemus_metadata221119.txt \\\n",
    "  --output-dir dada2-apo272/core-metrics-fukushima77-speciosus-large-dada2-filtered10-results/"
   ]
  },
  {
   "cell_type": "markdown",
   "metadata": {},
   "source": [
    "## taxa relative frequency tables\n",
    "Generate the tables with relative abundance data at several taxanomical levels (L2 phylum, L3 class, L4 order, L5 family, L6 genus, L7 species). These are based on the 'filtered10' and rarefied at 10553 reads/sample feature-table (used for plotting and stats)."
   ]
  },
  {
   "cell_type": "code",
   "execution_count": null,
   "metadata": {},
   "outputs": [],
   "source": [
    "!qiime taxa collapse \\\n",
    "--i-table dada2-apo272/core-metrics-apo272-dada2-filtered10-results/rarefied_table.qza \\\n",
    "--i-taxonomy dada2-apo272/apo272-dada2-taxonomy.qza \\\n",
    "--p-level 2 \\\n",
    "--output-dir dada2-apo272/taxa-rel-abund/L2"
   ]
  },
  {
   "cell_type": "code",
   "execution_count": null,
   "metadata": {},
   "outputs": [],
   "source": [
    "!qiime feature-table relative-frequency \\\n",
    "--i-table dada2-apo272/taxa-rel-abund/L2/collapsed_table.qza \\\n",
    "--output-dir dada2-apo272/taxa-rel-abund/L2/relative-L2"
   ]
  },
  {
   "cell_type": "code",
   "execution_count": null,
   "metadata": {},
   "outputs": [],
   "source": [
    "!qiime taxa collapse \\\n",
    "--i-table dada2-apo272/core-metrics-apo272-dada2-filtered10-results/rarefied_table.qza \\\n",
    "--i-taxonomy dada2-apo272/apo272-dada2-taxonomy.qza \\\n",
    "--p-level 3 \\\n",
    "--output-dir dada2-apo272/taxa-rel-abund/L3"
   ]
  },
  {
   "cell_type": "code",
   "execution_count": null,
   "metadata": {},
   "outputs": [],
   "source": [
    "!qiime feature-table relative-frequency \\\n",
    "--i-table dada2-apo272/taxa-rel-abund/L3/collapsed_table.qza \\\n",
    "--output-dir dada2-apo272/taxa-rel-abund/L3/relative-L3"
   ]
  },
  {
   "cell_type": "code",
   "execution_count": null,
   "metadata": {},
   "outputs": [],
   "source": [
    "!qiime taxa collapse \\\n",
    "--i-table dada2-apo272/core-metrics-apo272-dada2-filtered10-results/rarefied_table.qza \\\n",
    "--i-taxonomy dada2-apo272/apo272-dada2-taxonomy.qza \\\n",
    "--p-level 4 \\\n",
    "--output-dir dada2-apo272/taxa-rel-abund/L4"
   ]
  },
  {
   "cell_type": "code",
   "execution_count": null,
   "metadata": {},
   "outputs": [],
   "source": [
    "!qiime feature-table relative-frequency \\\n",
    "--i-table dada2-apo272/taxa-rel-abund/L4/collapsed_table.qza \\\n",
    "--output-dir dada2-apo272/taxa-rel-abund/L4/relative-L4"
   ]
  },
  {
   "cell_type": "code",
   "execution_count": null,
   "metadata": {},
   "outputs": [],
   "source": [
    "!qiime taxa collapse \\\n",
    "--i-table dada2-apo272/core-metrics-apo272-dada2-filtered10-results/rarefied_table.qza \\\n",
    "--i-taxonomy dada2-apo272/apo272-dada2-taxonomy.qza \\\n",
    "--p-level 5 \\\n",
    "--output-dir dada2-apo272/taxa-rel-abund/L5"
   ]
  },
  {
   "cell_type": "code",
   "execution_count": null,
   "metadata": {},
   "outputs": [],
   "source": [
    "!qiime feature-table relative-frequency \\\n",
    "--i-table dada2-apo272/taxa-rel-abund/L5/collapsed_table.qza \\\n",
    "--output-dir dada2-apo272/taxa-rel-abund/L5/relative-L5"
   ]
  },
  {
   "cell_type": "code",
   "execution_count": null,
   "metadata": {},
   "outputs": [],
   "source": [
    "!qiime taxa collapse \\\n",
    "--i-table dada2-apo272/core-metrics-apo272-dada2-filtered10-results/rarefied_table.qza \\\n",
    "--i-taxonomy dada2-apo272/apo272-dada2-taxonomy.qza \\\n",
    "--p-level 6 \\\n",
    "--output-dir dada2-apo272/taxa-rel-abund/L6"
   ]
  },
  {
   "cell_type": "code",
   "execution_count": null,
   "metadata": {},
   "outputs": [],
   "source": [
    "!qiime feature-table relative-frequency \\\n",
    "--i-table dada2-apo272/taxa-rel-abund/L6/collapsed_table.qza \\\n",
    "--output-dir dada2-apo272/taxa-rel-abund/L6/relative-L6"
   ]
  },
  {
   "cell_type": "code",
   "execution_count": null,
   "metadata": {},
   "outputs": [],
   "source": [
    "#open relative-frequency_table.qza with any zip archive app and export biom table,\n",
    "#then, run the following:\n",
    "!module load qiime/1.9.1 #this is to load qiime1 env as it contains biom package\n",
    "!biom convert -i dada2-apo272/taxa-rel-abund/L2-feature-table.biom -o dada2-apo272/taxa-rel-abund/L2-feature-table.tsv tsv\n",
    "!biom convert -i dada2-apo272/taxa-rel-abund/L3-feature-table.biom -o dada2-apo272/taxa-rel-abund/L3-feature-table.tsv tsv\n",
    "!biom convert -i dada2-apo272/taxa-rel-abund/L4-feature-table.biom -o dada2-apo272/taxa-rel-abund/L4-feature-table.tsv tsv\n",
    "!biom convert -i dada2-apo272/taxa-rel-abund/L5-feature-table.biom -o dada2-apo272/taxa-rel-abund/L5-feature-table.tsv tsv\n",
    "!biom convert -i dada2-apo272/taxa-rel-abund/L6-feature-table.biom -o dada2-apo272/taxa-rel-abund/L6-feature-table.tsv tsv"
   ]
  },
  {
   "cell_type": "markdown",
   "metadata": {},
   "source": [
    "## beta diversity\n",
    "\n",
    "Identify factors that are responsible for the patterns observed in the beta diversity ordinations (including numerical data categories). For this, we used the adonis function in the vegan R package implemented in qiime2 (qiime2 actually uses the R-vegan under the hood; outputs of the adonis vegan package function are consistent between R-native vegan and qiime2-vegan implementation - sanity checked - OK). The input distance files for the adonis tests derive from the core-diversity-phylogenetic pipeline (described above). Examine the output files and archive these data for the manuscript.\n",
    "Note that all four beta diversity metrics were used throughout, e.g. the Bray-Curtis, Jaccard, unweigthed and weighted UniFrac metrics."
   ]
  },
  {
   "cell_type": "markdown",
   "metadata": {},
   "source": [
    "**test 1**: Examine effects of the country of origin (Ukraine or Japan) and host species identiy using the following formula: \"Study+ApodemusSpecies\"."
   ]
  },
  {
   "cell_type": "code",
   "execution_count": null,
   "metadata": {},
   "outputs": [],
   "source": [
    "!qiime diversity adonis \\\n",
    "--i-distance-matrix dada2-apo272/core-metrics-apo272-dada2-filtered10-results/bray_curtis_distance_matrix.qza \\\n",
    "--m-metadata-file apodemus_metadata101219.txt \\\n",
    "--p-formula \"Study+ApodemusSpecies\" \\\n",
    "--o-visualization dada2-apo272/permanova-bdiv-tests/q2-adonis-bray-apo272-study-apodemussp.qzv"
   ]
  },
  {
   "cell_type": "code",
   "execution_count": null,
   "metadata": {},
   "outputs": [],
   "source": [
    "!qiime diversity adonis \\\n",
    "--i-distance-matrix dada2-apo272/core-metrics-apo272-dada2-filtered10-results/unweighted_unifrac_distance_matrix.qza \\\n",
    "--m-metadata-file apodemus_metadata101219.txt \\\n",
    "--p-formula \"Study+ApodemusSpecies\" \\\n",
    "--o-visualization dada2-apo272/permanova-bdiv-tests/q2-adonis-unwUF-apo272-study-apodemussp.qzv"
   ]
  },
  {
   "cell_type": "code",
   "execution_count": null,
   "metadata": {},
   "outputs": [],
   "source": [
    "!qiime diversity adonis \\\n",
    "--i-distance-matrix dada2-apo272/core-metrics-apo272-dada2-filtered10-results/weighted_unifrac_distance_matrix.qza \\\n",
    "--m-metadata-file apodemus_metadata101219.txt \\\n",
    "--p-formula \"Study+ApodemusSpecies\" \\\n",
    "--o-visualization dada2-apo272/permanova-bdiv-tests/q2-adonis-weightUF-apo272-study-apodemussp.qzv"
   ]
  },
  {
   "cell_type": "code",
   "execution_count": null,
   "metadata": {},
   "outputs": [],
   "source": [
    "!qiime diversity adonis \\\n",
    "--i-distance-matrix dada2-apo272/core-metrics-apo272-dada2-filtered10-results/jaccard_distance_matrix.qza \\\n",
    "--m-metadata-file apodemus_metadata101219.txt \\\n",
    "--p-formula \"Study+ApodemusSpecies\" \\\n",
    "--o-visualization dada2-apo272/permanova-bdiv-tests/q2-adonis-jaccard-apo272-study-apodemussp.qzv"
   ]
  },
  {
   "cell_type": "markdown",
   "metadata": {},
   "source": [
    "**test 2**: Use univariate models including only host species in either study site (Chernobyl or Fukushima; see below) to compare the variance explained by host species identity. Chernobyl data only."
   ]
  },
  {
   "cell_type": "code",
   "execution_count": null,
   "metadata": {},
   "outputs": [],
   "source": [
    "!qiime diversity adonis \\\n",
    "--i-distance-matrix dada2-apo272/core-metrics-chernobyl142-dada2-filtered10-results/bray_curtis_distance_matrix.qza \\\n",
    "--m-metadata-file apodemus_metadata101219.txt \\\n",
    "--p-formula \"ApodemusSpecies\" \\\n",
    "--o-visualization dada2-apo272/permanova-bdiv-tests/q2-adonis-bray-chernobyl142-apodemussp.qzv"
   ]
  },
  {
   "cell_type": "code",
   "execution_count": null,
   "metadata": {},
   "outputs": [],
   "source": [
    "!qiime diversity adonis \\\n",
    "--i-distance-matrix dada2-apo272/core-metrics-chernobyl142-dada2-filtered10-results/unweighted_unifrac_distance_matrix.qza \\\n",
    "--m-metadata-file apodemus_metadata101219.txt \\\n",
    "--p-formula \"ApodemusSpecies\" \\\n",
    "--o-visualization dada2-apo272/permanova-bdiv-tests/q2-adonis-unwUF-chernobyl142-apodemussp.qzv"
   ]
  },
  {
   "cell_type": "code",
   "execution_count": null,
   "metadata": {},
   "outputs": [],
   "source": [
    "!qiime diversity adonis \\\n",
    "--i-distance-matrix dada2-apo272/core-metrics-chernobyl142-dada2-filtered10-results/weighted_unifrac_distance_matrix.qza \\\n",
    "--m-metadata-file apodemus_metadata101219.txt \\\n",
    "--p-formula \"ApodemusSpecies\" \\\n",
    "--o-visualization dada2-apo272/permanova-bdiv-tests/q2-adonis-weightUF-chernobyl142-apodemussp.qzv"
   ]
  },
  {
   "cell_type": "code",
   "execution_count": null,
   "metadata": {},
   "outputs": [],
   "source": [
    "!qiime diversity adonis \\\n",
    "--i-distance-matrix dada2-apo272/core-metrics-chernobyl142-dada2-filtered10-results/jaccard_distance_matrix.qza \\\n",
    "--m-metadata-file apodemus_metadata101219.txt \\\n",
    "--p-formula \"ApodemusSpecies\" \\\n",
    "--o-visualization dada2-apo272/permanova-bdiv-tests/q2-adonis-jaccard-chernobyl142-apodemussp.qzv"
   ]
  },
  {
   "cell_type": "markdown",
   "metadata": {},
   "source": [
    "**test 2.1**: Fukushima data only."
   ]
  },
  {
   "cell_type": "code",
   "execution_count": null,
   "metadata": {},
   "outputs": [],
   "source": [
    "!qiime diversity adonis \\\n",
    "--i-distance-matrix dada2-apo272/core-metrics-fukushima130-dada2-filtered10-results/bray_curtis_distance_matrix.qza \\\n",
    "--m-metadata-file apodemus_metadata101219.txt \\\n",
    "--p-formula \"ApodemusSpecies\" \\\n",
    "--o-visualization dada2-apo272/permanova-bdiv-tests/q2-adonis-bray-fukushima130-apodemussp.qzv"
   ]
  },
  {
   "cell_type": "code",
   "execution_count": null,
   "metadata": {},
   "outputs": [],
   "source": [
    "!qiime diversity adonis \\\n",
    "--i-distance-matrix dada2-apo272/core-metrics-fukushima130-dada2-filtered10-results/unweighted_unifrac_distance_matrix.qza \\\n",
    "--m-metadata-file apodemus_metadata101219.txt \\\n",
    "--p-formula \"ApodemusSpecies\" \\\n",
    "--o-visualization dada2-apo272/permanova-bdiv-tests/q2-adonis-unwUF-fukushima130-apodemussp.qzv"
   ]
  },
  {
   "cell_type": "code",
   "execution_count": null,
   "metadata": {},
   "outputs": [],
   "source": [
    "!qiime diversity adonis \\\n",
    "--i-distance-matrix dada2-apo272/core-metrics-fukushima130-dada2-filtered10-results/weighted_unifrac_distance_matrix.qza \\\n",
    "--m-metadata-file apodemus_metadata101219.txt \\\n",
    "--p-formula \"ApodemusSpecies\" \\\n",
    "--o-visualization dada2-apo272/permanova-bdiv-tests/q2-adonis-weightUF-fukushima130-apodemussp.qzv"
   ]
  },
  {
   "cell_type": "code",
   "execution_count": null,
   "metadata": {},
   "outputs": [],
   "source": [
    "!qiime diversity adonis \\\n",
    "--i-distance-matrix dada2-apo272/core-metrics-fukushima130-dada2-filtered10-results/jaccard_distance_matrix.qza \\\n",
    "--m-metadata-file apodemus_metadata101219.txt \\\n",
    "--p-formula \"ApodemusSpecies\" \\\n",
    "--o-visualization dada2-apo272/permanova-bdiv-tests/q2-adonis-jaccard-fukushima130-apodemussp.qzv"
   ]
  },
  {
   "cell_type": "markdown",
   "metadata": {},
   "source": [
    "**test 3**: Construct full multivariate models to examine potential drivers of the variation in the gut microbiome of each *Apodemus* host species studied (in both, Chernobyl and Fukushima): *Apodemus flavicollis* ('apo115'), *Apodemus sylvaticus* ('apo27'), *Apodemus argenteus* ('apo53'), *Apodemus speciosus* ('apo77'). Here we test for: **(1)** treatment; **(2)** sex; **(3)** body mass; **(4)** head width; **(5)** host state; **(6)** radiation dose rate (total exposure estimates). Fit models with the variables in the following order: \"Treatment+TotalDRmGydCs134forFUKU+HostSex+HostState+HeadWidthmm+BodyMassg\". Note that we have also run the tests with the body condition index estimates instead of the 'BodyMass+Headwidth', as they are inclusive (yet, this makes no difference to the overall results so this part is not reported further). We also test for differences in dispersion between the treatment groups using the permdisp function."
   ]
  },
  {
   "cell_type": "code",
   "execution_count": null,
   "metadata": {},
   "outputs": [],
   "source": [
    "!qiime diversity adonis \\\n",
    "--i-distance-matrix dada2-apo272/core-metrics-chernobyl115-flavicollis-dada2-filtered10-results/bray_curtis_distance_matrix.qza \\\n",
    "--m-metadata-file apodemus_metadata181219.txt \\\n",
    "--p-formula \"Treatment+TotalDRmGydCs134forFUKU+HostSex+HostState+HeadWidthmm+BodyMassg\" \\\n",
    "--o-visualization dada2-apo272/permanova-bdiv-tests/q2-adonis-bray-chernobyl115-flav-Tr-Tot-Sx-Hst-Hw-Bm.qzv"
   ]
  },
  {
   "cell_type": "code",
   "execution_count": null,
   "metadata": {},
   "outputs": [],
   "source": [
    "!qiime diversity adonis \\\n",
    "--i-distance-matrix dada2-apo272/core-metrics-chernobyl115-flavicollis-dada2-filtered10-results/unweighted_unifrac_distance_matrix.qza \\\n",
    "--m-metadata-file apodemus_metadata181219.txt \\\n",
    "--p-formula \"Treatment+TotalDRmGydCs134forFUKU+HostSex+HostState+HeadWidthmm+BodyMassg\" \\\n",
    "--o-visualization dada2-apo272/permanova-bdiv-tests/q2-adonis-unwUF-chernobyl115-flav-Tr-Tot-Sx-Hst-Hw-Bm.qzv"
   ]
  },
  {
   "cell_type": "code",
   "execution_count": null,
   "metadata": {},
   "outputs": [],
   "source": [
    "!qiime diversity adonis \\\n",
    "--i-distance-matrix dada2-apo272/core-metrics-chernobyl115-flavicollis-dada2-filtered10-results/weighted_unifrac_distance_matrix.qza \\\n",
    "--m-metadata-file apodemus_metadata181219.txt \\\n",
    "--p-formula \"Treatment+TotalDRmGydCs134forFUKU+HostSex+HostState+HeadWidthmm+BodyMassg\" \\\n",
    "--o-visualization dada2-apo272/permanova-bdiv-tests/q2-adonis-weightUF-chernobyl115-flav-Tr-Tot-Sx-Hst-Hw-Bm.qzv"
   ]
  },
  {
   "cell_type": "code",
   "execution_count": null,
   "metadata": {},
   "outputs": [],
   "source": [
    "!qiime diversity adonis \\\n",
    "--i-distance-matrix dada2-apo272/core-metrics-chernobyl115-flavicollis-dada2-filtered10-results/jaccard_distance_matrix.qza \\\n",
    "--m-metadata-file apodemus_metadata181219.txt \\\n",
    "--p-formula \"Treatment+TotalDRmGydCs134forFUKU+HostSex+HostState+HeadWidthmm+BodyMassg\" \\\n",
    "--o-visualization dada2-apo272/permanova-bdiv-tests/q2-adonis-jaccard-chernobyl115-flav-Tr-Tot-Sx-Hst-Hw-Bm.qzv"
   ]
  },
  {
   "cell_type": "markdown",
   "metadata": {},
   "source": [
    "**test 3.1**: Also, run permdisp to see if the differences in permanova adonis tests for *Apodemus flavicollis* ('apo115') are driven by the true difference in means between groups or their dispersion."
   ]
  },
  {
   "cell_type": "code",
   "execution_count": null,
   "metadata": {},
   "outputs": [],
   "source": [
    "!qiime diversity beta-group-significance \\\n",
    "--i-distance-matrix dada2-apo272/core-metrics-chernobyl115-flavicollis-dada2-filtered10-results/bray_curtis_distance_matrix.qza \\\n",
    "--m-metadata-file apodemus_metadata181219.txt \\\n",
    "--m-metadata-column Treatment \\\n",
    "--p-method 'permdisp' \\\n",
    "--o-visualization dada2-apo272/permanova-bdiv-tests/q2-permdisp-bray-chernobyl115-flav-treatment.qzv"
   ]
  },
  {
   "cell_type": "code",
   "execution_count": null,
   "metadata": {},
   "outputs": [],
   "source": [
    "!qiime diversity beta-group-significance \\\n",
    "--i-distance-matrix dada2-apo272/core-metrics-chernobyl115-flavicollis-dada2-filtered10-results/unweighted_unifrac_distance_matrix.qza \\\n",
    "--m-metadata-file apodemus_metadata181219.txt \\\n",
    "--m-metadata-column Treatment \\\n",
    "--p-method 'permdisp' \\\n",
    "--o-visualization dada2-apo272/permanova-bdiv-tests/q2-permdisp-unwUF-chernobyl115-flav-treatment.qzv"
   ]
  },
  {
   "cell_type": "code",
   "execution_count": null,
   "metadata": {},
   "outputs": [],
   "source": [
    "!qiime diversity beta-group-significance \\\n",
    "--i-distance-matrix dada2-apo272/core-metrics-chernobyl115-flavicollis-dada2-filtered10-results/weighted_unifrac_distance_matrix.qza \\\n",
    "--m-metadata-file apodemus_metadata181219.txt \\\n",
    "--m-metadata-column Treatment \\\n",
    "--p-method 'permdisp' \\\n",
    "--o-visualization dada2-apo272/permanova-bdiv-tests/q2-permdisp-weightUF-chernobyl115-flav-treatment.qzv"
   ]
  },
  {
   "cell_type": "code",
   "execution_count": null,
   "metadata": {},
   "outputs": [],
   "source": [
    "!qiime diversity beta-group-significance \\\n",
    "--i-distance-matrix dada2-apo272/core-metrics-chernobyl115-flavicollis-dada2-filtered10-results/jaccard_distance_matrix.qza \\\n",
    "--m-metadata-file apodemus_metadata181219.txt \\\n",
    "--m-metadata-column Treatment \\\n",
    "--p-method 'permdisp' \\\n",
    "--o-visualization dada2-apo272/permanova-bdiv-tests/q2-permdisp-jaccard-chernobyl115-flav-treatment.qzv"
   ]
  },
  {
   "cell_type": "markdown",
   "metadata": {},
   "source": [
    "Repeat **tests 3 and 3.1** for the *Apodemus sylvaticus* ('apo27') data set from Chernobyl."
   ]
  },
  {
   "cell_type": "code",
   "execution_count": null,
   "metadata": {},
   "outputs": [],
   "source": [
    "#test 3: adonis tests for Apodemus sylvaticus (apo27)\n",
    "\n",
    "!qiime diversity adonis \\\n",
    "--i-distance-matrix dada2-apo272/core-metrics-chernobyl27-sylvaticus-dada2-filtered10-results/bray_curtis_distance_matrix.qza \\\n",
    "--m-metadata-file apodemus_metadata181219.txt \\\n",
    "--p-formula \"Treatment+TotalDRmGydCs134forFUKU+HostSex+HostState+HeadWidthmm+BodyMassg\" \\\n",
    "--o-visualization dada2-apo272/permanova-bdiv-tests/q2-adonis-bray-chernobyl27-sylv-Tr-Tot-Sx-Hst-Hw-Bm.qzv\n",
    "\n",
    "!qiime diversity adonis \\\n",
    "--i-distance-matrix dada2-apo272/core-metrics-chernobyl27-sylvaticus-dada2-filtered10-results/unweighted_unifrac_distance_matrix.qza \\\n",
    "--m-metadata-file apodemus_metadata181219.txt \\\n",
    "--p-formula \"Treatment+TotalDRmGydCs134forFUKU+HostSex+HostState+HeadWidthmm+BodyMassg\" \\\n",
    "--o-visualization dada2-apo272/permanova-bdiv-tests/q2-adonis-unwUF-chernobyl27-sylv-Tr-Tot-Sx-Hst-Hw-Bm.qzv\n",
    "\n",
    "!qiime diversity adonis \\\n",
    "--i-distance-matrix dada2-apo272/core-metrics-chernobyl27-sylvaticus-dada2-filtered10-results/weighted_unifrac_distance_matrix.qza \\\n",
    "--m-metadata-file apodemus_metadata181219.txt \\\n",
    "--p-formula \"Treatment+TotalDRmGydCs134forFUKU+HostSex+HostState+HeadWidthmm+BodyMassg\" \\\n",
    "--o-visualization dada2-apo272/permanova-bdiv-tests/q2-adonis-weightUF-chernobyl27-sylv-Tr-Tot-Sx-Hst-Hw-Bm.qzv\n",
    "\n",
    "!qiime diversity adonis \\\n",
    "--i-distance-matrix dada2-apo272/core-metrics-chernobyl27-sylvaticus-dada2-filtered10-results/jaccard_distance_matrix.qza \\\n",
    "--m-metadata-file apodemus_metadata181219.txt \\\n",
    "--p-formula \"Treatment+TotalDRmGydCs134forFUKU+HostSex+HostState+HeadWidthmm+BodyMassg\" \\\n",
    "--o-visualization dada2-apo272/permanova-bdiv-tests/q2-adonis-jaccard-chernobyl27-sylv-Tr-Tot-Sx-Hst-Hw-Bm.qzv"
   ]
  },
  {
   "cell_type": "code",
   "execution_count": null,
   "metadata": {},
   "outputs": [],
   "source": [
    "#test 3.1: permdisp tests for Apodemus sylvaticus (apo27)\n",
    "\n",
    "!qiime diversity beta-group-significance \\\n",
    "--i-distance-matrix dada2-apo272/core-metrics-chernobyl27-sylvaticus-dada2-filtered10-results/bray_curtis_distance_matrix.qza \\\n",
    "--m-metadata-file apodemus_metadata181219.txt \\\n",
    "--m-metadata-column Treatment \\\n",
    "--p-method 'permdisp' \\\n",
    "--o-visualization dada2-apo272/permanova-bdiv-tests/q2-permdisp-bray-chernobyl27-sylv-treatment.qzv\n",
    "\n",
    "!qiime diversity beta-group-significance \\\n",
    "--i-distance-matrix dada2-apo272/core-metrics-chernobyl27-sylvaticus-dada2-filtered10-results/unweighted_unifrac_distance_matrix.qza \\\n",
    "--m-metadata-file apodemus_metadata181219.txt \\\n",
    "--m-metadata-column Treatment \\\n",
    "--p-method 'permdisp' \\\n",
    "--o-visualization dada2-apo272/permanova-bdiv-tests/q2-permdisp-unwUF-chernobyl27-sylv-treatment.qzv\n",
    "\n",
    "!qiime diversity beta-group-significance \\\n",
    "--i-distance-matrix dada2-apo272/core-metrics-chernobyl27-sylvaticus-dada2-filtered10-results/weighted_unifrac_distance_matrix.qza \\\n",
    "--m-metadata-file apodemus_metadata181219.txt \\\n",
    "--m-metadata-column Treatment \\\n",
    "--p-method 'permdisp' \\\n",
    "--o-visualization dada2-apo272/permanova-bdiv-tests/q2-permdisp-weightUF-chernobyl27-sylv-treatment.qzv\n",
    "\n",
    "!qiime diversity beta-group-significance \\\n",
    "--i-distance-matrix dada2-apo272/core-metrics-chernobyl27-sylvaticus-dada2-filtered10-results/jaccard_distance_matrix.qza \\\n",
    "--m-metadata-file apodemus_metadata181219.txt \\\n",
    "--m-metadata-column Treatment \\\n",
    "--p-method 'permdisp' \\\n",
    "--o-visualization dada2-apo272/permanova-bdiv-tests/q2-permdisp-jaccard-chernobyl27-sylv-treatment.qzv"
   ]
  },
  {
   "cell_type": "markdown",
   "metadata": {},
   "source": [
    "Repeat **tests 3 and 3.1** for the *Apodemus argenteus* ('apo53') data set from Fukushima."
   ]
  },
  {
   "cell_type": "code",
   "execution_count": null,
   "metadata": {},
   "outputs": [],
   "source": [
    "#test 3: adonis tests for Apodemus argenteus (apo53)\n",
    "\n",
    "!qiime diversity adonis \\\n",
    "--i-distance-matrix dada2-apo272/core-metrics-fukushima53-argenteus-small-dada2-filtered10-results/bray_curtis_distance_matrix.qza \\\n",
    "--m-metadata-file apodemus_metadata181219.txt \\\n",
    "--p-formula \"Treatment+TotalDRmGydCs134forFUKU+HostSex+HostState+HeadWidthmm+BodyMassg\" \\\n",
    "--o-visualization dada2-apo272/permanova-bdiv-tests/q2-adonis-bray-fukushima53-argent-Tr-Tot-Sx-Hst-Hw-Bm.qzv\n",
    "\n",
    "!qiime diversity adonis \\\n",
    "--i-distance-matrix dada2-apo272/core-metrics-fukushima53-argenteus-small-dada2-filtered10-results/unweighted_unifrac_distance_matrix.qza \\\n",
    "--m-metadata-file apodemus_metadata181219.txt \\\n",
    "--p-formula \"Treatment+TotalDRmGydCs134forFUKU+HostSex+HostState+HeadWidthmm+BodyMassg\" \\\n",
    "--o-visualization dada2-apo272/permanova-bdiv-tests/q2-adonis-unwUF-fukushima53-argent-Tr-Tot-Sx-Hst-Hw-Bm.qzv\n",
    "\n",
    "!qiime diversity adonis \\\n",
    "--i-distance-matrix dada2-apo272/core-metrics-fukushima53-argenteus-small-dada2-filtered10-results/weighted_unifrac_distance_matrix.qza \\\n",
    "--m-metadata-file apodemus_metadata181219.txt \\\n",
    "--p-formula \"Treatment+TotalDRmGydCs134forFUKU+HostSex+HostState+HeadWidthmm+BodyMassg\" \\\n",
    "--o-visualization dada2-apo272/permanova-bdiv-tests/q2-adonis-weightUF-fukushima53-argent-Tr-Tot-Sx-Hst-Hw-Bm.qzv\n",
    "\n",
    "!qiime diversity adonis \\\n",
    "--i-distance-matrix dada2-apo272/core-metrics-fukushima53-argenteus-small-dada2-filtered10-results/jaccard_distance_matrix.qza \\\n",
    "--m-metadata-file apodemus_metadata181219.txt \\\n",
    "--p-formula \"Treatment+TotalDRmGydCs134forFUKU+HostSex+HostState+HeadWidthmm+BodyMassg\" \\\n",
    "--o-visualization dada2-apo272/permanova-bdiv-tests/q2-adonis-jaccard-fukushima53-argent-Tr-Tot-Sx-Hst-Hw-Bm.qzv"
   ]
  },
  {
   "cell_type": "code",
   "execution_count": null,
   "metadata": {},
   "outputs": [],
   "source": [
    "#test 3.1: permdisp tests for Apodemus argenteus (apo53)\n",
    "\n",
    "!qiime diversity beta-group-significance \\\n",
    "--i-distance-matrix dada2-apo272/core-metrics-fukushima53-argenteus-small-dada2-filtered10-results/bray_curtis_distance_matrix.qza \\\n",
    "--m-metadata-file apodemus_metadata181219.txt \\\n",
    "--m-metadata-column Treatment \\\n",
    "--p-method 'permdisp' \\\n",
    "--o-visualization dada2-apo272/permanova-bdiv-tests/q2-permdisp-bray-fukushima53-argent-treatment.qzv\n",
    "\n",
    "!qiime diversity beta-group-significance \\\n",
    "--i-distance-matrix dada2-apo272/core-metrics-fukushima53-argenteus-small-dada2-filtered10-results/unweighted_unifrac_distance_matrix.qza \\\n",
    "--m-metadata-file apodemus_metadata181219.txt \\\n",
    "--m-metadata-column Treatment \\\n",
    "--p-method 'permdisp' \\\n",
    "--o-visualization dada2-apo272/permanova-bdiv-tests/q2-permdisp-unwUF-fukushima53-argent-treatment.qzv\n",
    "\n",
    "!qiime diversity beta-group-significance \\\n",
    "--i-distance-matrix dada2-apo272/core-metrics-fukushima53-argenteus-small-dada2-filtered10-results/weighted_unifrac_distance_matrix.qza \\\n",
    "--m-metadata-file apodemus_metadata181219.txt \\\n",
    "--m-metadata-column Treatment \\\n",
    "--p-method 'permdisp' \\\n",
    "--o-visualization dada2-apo272/permanova-bdiv-tests/q2-permdisp-weightUF-fukushima53-argent-treatment.qzv\n",
    "\n",
    "!qiime diversity beta-group-significance \\\n",
    "--i-distance-matrix dada2-apo272/core-metrics-fukushima53-argenteus-small-dada2-filtered10-results/jaccard_distance_matrix.qza \\\n",
    "--m-metadata-file apodemus_metadata181219.txt \\\n",
    "--m-metadata-column Treatment \\\n",
    "--p-method 'permdisp' \\\n",
    "--o-visualization dada2-apo272/permanova-bdiv-tests/q2-permdisp-jaccard-fukushima53-argent-treatment.qzv"
   ]
  },
  {
   "cell_type": "markdown",
   "metadata": {},
   "source": [
    "Repeat **tests 3 and 3.1** for the *Apodemus speciosus* ('apo77') dataset from Fukushima. Note, that the formula here have no 'HostState' variable as there is only one level under this term (e.g. all of the sampled individuals were adults)."
   ]
  },
  {
   "cell_type": "code",
   "execution_count": null,
   "metadata": {},
   "outputs": [],
   "source": [
    "#test 3: adonis tests for Apodemus speciosus (apo77)\n",
    "\n",
    "!qiime diversity adonis \\\n",
    "--i-distance-matrix dada2-apo272/core-metrics-fukushima77-speciosus-large-dada2-filtered10-results/bray_curtis_distance_matrix.qza \\\n",
    "--m-metadata-file apodemus_metadata181219.txt \\\n",
    "--p-formula \"Treatment+TotalDRmGydCs134forFUKU+HostSex+HeadWidthmm+BodyMassg\" \\\n",
    "--o-visualization dada2-apo272/permanova-bdiv-tests/q2-adonis-bray-fukushima77-specios-Tr-Tot-Sx-Hw-Bm.qzv\n",
    "\n",
    "!qiime diversity adonis \\\n",
    "--i-distance-matrix dada2-apo272/core-metrics-fukushima77-speciosus-large-dada2-filtered10-results/unweighted_unifrac_distance_matrix.qza \\\n",
    "--m-metadata-file apodemus_metadata181219.txt \\\n",
    "--p-formula \"Treatment+TotalDRmGydCs134forFUKU+HostSex+HeadWidthmm+BodyMassg\" \\\n",
    "--o-visualization dada2-apo272/permanova-bdiv-tests/q2-adonis-unwUF-fukushima77-specios-Tr-Tot-Sx-Hw-Bm.qzv\n",
    "\n",
    "!qiime diversity adonis \\\n",
    "--i-distance-matrix dada2-apo272/core-metrics-fukushima77-speciosus-large-dada2-filtered10-results/weighted_unifrac_distance_matrix.qza \\\n",
    "--m-metadata-file apodemus_metadata181219.txt \\\n",
    "--p-formula \"Treatment+TotalDRmGydCs134forFUKU+HostSex+HeadWidthmm+BodyMassg\" \\\n",
    "--o-visualization dada2-apo272/permanova-bdiv-tests/q2-adonis-weightUF-fukushima77-specios-Tr-Tot-Sx-Hw-Bm.qzv\n",
    "\n",
    "!qiime diversity adonis \\\n",
    "--i-distance-matrix dada2-apo272/core-metrics-fukushima77-speciosus-large-dada2-filtered10-results/jaccard_distance_matrix.qza \\\n",
    "--m-metadata-file apodemus_metadata181219.txt \\\n",
    "--p-formula \"Treatment+TotalDRmGydCs134forFUKU+HostSex+HeadWidthmm+BodyMassg\" \\\n",
    "--o-visualization dada2-apo272/permanova-bdiv-tests/q2-adonis-jaccard-fukushima77-specios-Tr-Tot-Sx-Hw-Bm.qzv"
   ]
  },
  {
   "cell_type": "code",
   "execution_count": null,
   "metadata": {},
   "outputs": [],
   "source": [
    "#test 3.1: permdisp tests for Apodemus speciosus (apo77)\n",
    "\n",
    "!qiime diversity beta-group-significance \\\n",
    "--i-distance-matrix dada2-apo272/core-metrics-fukushima77-speciosus-large-dada2-filtered10-results/bray_curtis_distance_matrix.qza \\\n",
    "--m-metadata-file apodemus_metadata181219.txt \\\n",
    "--m-metadata-column Treatment \\\n",
    "--p-method 'permdisp' \\\n",
    "--o-visualization dada2-apo272/permanova-bdiv-tests/q2-permdisp-bray-fukushima77-specios-treatment.qzv\n",
    "\n",
    "!qiime diversity beta-group-significance \\\n",
    "--i-distance-matrix dada2-apo272/core-metrics-fukushima77-speciosus-large-dada2-filtered10-results/unweighted_unifrac_distance_matrix.qza \\\n",
    "--m-metadata-file apodemus_metadata181219.txt \\\n",
    "--m-metadata-column Treatment \\\n",
    "--p-method 'permdisp' \\\n",
    "--o-visualization dada2-apo272/permanova-bdiv-tests/q2-permdisp-unwUF-fukushima77-specios-treatment.qzv\n",
    "\n",
    "!qiime diversity beta-group-significance \\\n",
    "--i-distance-matrix dada2-apo272/core-metrics-fukushima77-speciosus-large-dada2-filtered10-results/weighted_unifrac_distance_matrix.qza \\\n",
    "--m-metadata-file apodemus_metadata181219.txt \\\n",
    "--m-metadata-column Treatment \\\n",
    "--p-method 'permdisp' \\\n",
    "--o-visualization dada2-apo272/permanova-bdiv-tests/q2-permdisp-weightUF-fukushima77-specios-treatment.qzv\n",
    "\n",
    "!qiime diversity beta-group-significance \\\n",
    "--i-distance-matrix dada2-apo272/core-metrics-fukushima77-speciosus-large-dada2-filtered10-results/jaccard_distance_matrix.qza \\\n",
    "--m-metadata-file apodemus_metadata181219.txt \\\n",
    "--m-metadata-column Treatment \\\n",
    "--p-method 'permdisp' \\\n",
    "--o-visualization dada2-apo272/permanova-bdiv-tests/q2-permdisp-jaccard-fukushima77-specios-treatment.qzv"
   ]
  },
  {
   "cell_type": "markdown",
   "metadata": {},
   "source": [
    "## classify samples using Random Forest classifier\n",
    "Examine the Random Forest predictions for the country of origin: Ukraine vs. Japan; and *Apodemus* species based on the gut microbiome community composition. See some useful discussion along the topic [here](https://joss.theoj.org/papers/10.21105/joss.00934), [here](https://docs.qiime2.org/2019.4/plugins/available/sample-classifier/classify-samples/) and [here](https://docs.qiime2.org/2019.4/tutorials/sample-classifier/)."
   ]
  },
  {
   "cell_type": "code",
   "execution_count": null,
   "metadata": {},
   "outputs": [],
   "source": [
    "!qiime sample-classifier classify-samples \\\n",
    "  --i-table dada2-apo272/core-metrics-apo272-dada2-filtered10-results/rarefied_table.qza \\\n",
    "  --m-metadata-file apodemus_metadata181219.txt \\\n",
    "  --m-metadata-column Study \\\n",
    "  --p-optimize-feature-selection \\\n",
    "  --p-parameter-tuning \\\n",
    "  --p-estimator RandomForestClassifier \\\n",
    "  --p-n-estimators 10000 \\\n",
    "  --output-dir dada2-apo272/random-forest/rf-apo272-study\n",
    "\n",
    "!qiime sample-classifier classify-samples \\\n",
    "  --i-table dada2-apo272/core-metrics-apo272-dada2-filtered10-results/rarefied_table.qza \\\n",
    "  --m-metadata-file apodemus_metadata181219.txt \\\n",
    "  --m-metadata-column ApodemusSpecies \\\n",
    "  --p-optimize-feature-selection \\\n",
    "  --p-parameter-tuning \\\n",
    "  --p-estimator RandomForestClassifier \\\n",
    "  --p-n-estimators 10000 \\\n",
    "  --output-dir dada2-apo272/random-forest/rf-apo272-apodemussp"
   ]
  },
  {
   "cell_type": "markdown",
   "metadata": {},
   "source": [
    "Examine the most important features (e.g. ASVs) for classification of the samples from the respective *Apodemus* host species."
   ]
  },
  {
   "cell_type": "code",
   "execution_count": null,
   "metadata": {},
   "outputs": [],
   "source": [
    "!qiime feature-table filter-features \\\n",
    "  --i-table dada2-apo272/core-metrics-apo272-dada2-filtered10-results/rarefied_table.qza \\\n",
    "  --m-metadata-file dada2-apo272/random-forest/rf-apo272-apodemussp/feature_importance.qza \\\n",
    "  --o-filtered-table dada2-apo272/random-forest/rf-apo272-apodemussp/important-1226feature-rarefied-apo272-table.qza"
   ]
  },
  {
   "cell_type": "code",
   "execution_count": null,
   "metadata": {},
   "outputs": [],
   "source": [
    "#summarize filtered feature-table\n",
    "!qiime feature-table summarize \\\n",
    "  --i-table dada2-apo272/random-forest/rf-apo272-apodemussp/important-1226feature-rarefied-apo272-table.qza \\\n",
    "  --o-visualization dada2-apo272/random-forest/rf-apo272-apodemussp/important-1226feature-rarefied-apo272-table.qzv \\\n",
    "  --m-sample-metadata-file apodemus_metadata181219.txt"
   ]
  },
  {
   "cell_type": "markdown",
   "metadata": {},
   "source": [
    "Use [this](https://docs.qiime2.org/2019.4/plugins/available/sample-classifier/heatmap/) qiime2 plugin to make a heatmap with the top20 ASVs that discriminate *Apodemus* species the most (sanity-checked - OK). Note that the feature-table was normalised by adding a psuedocount of 1 and then taking the log10 of the table to aid plotting. Also, average clustering was performed using Bray-Curtis dissimilarity metric."
   ]
  },
  {
   "cell_type": "code",
   "execution_count": null,
   "metadata": {},
   "outputs": [],
   "source": [
    "!qiime sample-classifier heatmap \\\n",
    "  --i-table dada2-apo272/random-forest/rf-apo272-apodemussp/important-1226feature-rarefied-apo272-table.qza \\\n",
    "  --i-importance dada2-apo272/random-forest/rf-apo272-apodemussp/feature_importance.qza \\\n",
    "  --m-metadata-file apodemus_metadata181219.txt \\\n",
    "  --m-metadata-column ApodemusSpecies \\\n",
    "  --p-group-samples \\\n",
    "  --p-color-scheme 'viridis' \\\n",
    "  --p-feature-count 20 \\\n",
    "  --p-cluster 'both' \\\n",
    "  --o-filtered-table dada2-apo272/random-forest/rf-apo272-apodemussp/both-important-to-20feature-rarefied-apo272-table.qza \\\n",
    "  --o-heatmap dada2-apo272/random-forest/rf-apo272-apodemussp/both-important-top20feature-heatmap.qzv"
   ]
  },
  {
   "cell_type": "markdown",
   "metadata": {},
   "source": [
    "## diversity of the *S24-7* family\n",
    "Examine diversity and distribution of the ASVs assigned to the *S24-7* family in *Apodemus flavicollis*. \n",
    "\n",
    "The scripts below were used to examine whether diversity of the '*S24-7* only' feature-table is identical in the qiime2 based and R-phyloseq based estimates - yes the two approaches provide identical counts/results - sanity-checked - OK."
   ]
  },
  {
   "cell_type": "code",
   "execution_count": null,
   "metadata": {},
   "outputs": [],
   "source": [
    "!qiime taxa filter-table \\\n",
    "  --i-table dada2-apo272/core-metrics-chernobyl115-flavicollis-dada2-filtered10-results/rarefied_table.qza \\\n",
    "  --i-taxonomy dada2-apo272/apo272-dada2-taxonomy.qza \\\n",
    "  --p-include f__S24-7 \\\n",
    "  --o-filtered-table dada2-apo272/diversity-s247/apo115-flav-table-with-S247-only.qza"
   ]
  },
  {
   "cell_type": "code",
   "execution_count": null,
   "metadata": {
    "scrolled": true
   },
   "outputs": [],
   "source": [
    "#summarize filtered feature-table - sanity checked OK\n",
    "!qiime feature-table summarize \\\n",
    "  --i-table dada2-apo272/diversity-s247/apo115-flav-table-with-S247-only.qza \\\n",
    "  --o-visualization dada2-apo272/diversity-s247/apo115-flav-table-with-S247-only.qzv \\\n",
    "  --m-sample-metadata-file apodemus_metadata181219.txt"
   ]
  },
  {
   "cell_type": "code",
   "execution_count": null,
   "metadata": {},
   "outputs": [],
   "source": [
    "#compute non-phylogenetic alpha-diversity metrics - note that this was done using the qiime2-2020.8 (version change)\n",
    "!qiime diversity alpha \\\n",
    "--i-table dada2-apo272/diversity-s247/apo115-flav-table-with-S247-only.qza \\\n",
    "--p-metric 'observed_features' \\\n",
    "--o-alpha-diversity dada2-apo272/diversity-s247/apo115-flav-S247-only-adiv.qza \\"
   ]
  },
  {
   "cell_type": "markdown",
   "metadata": {},
   "source": [
    "## comparative analysis: voles and mice data sets\n",
    "\n",
    "Import the 16S data for 137 bank voles (*Myodes glareolus*) hosts from [Lavrinienko et al. 2018](https://www.nature.com/articles/s41396-018-0214-x) into qiime2, and process these read data similarly as the mice data described above, to ensure the data sets are comparable. The raw sequence data for this study are available for download from the European Nucleotide Archive (ENA) at EMBL-EBI under accession number [ERP104266](https://www.ebi.ac.uk/ena/browser/view/PRJEB22579) and [QIITA](https://qiita.ucsd.edu/) study ID 11360.\n",
    "\n",
    "Of important note, these data are free of adapters and primers. These, including any other sequencing constucts were removed as a part of the sequencing facility service, so no additional trimming from the left needed. This was run with the qiime2 version change to 2020.2."
   ]
  },
  {
   "cell_type": "code",
   "execution_count": null,
   "metadata": {},
   "outputs": [],
   "source": [
    "!qiime tools import \\\n",
    "--type 'SampleData[PairedEndSequencesWithQuality]' \\\n",
    "--input-path manifest-vole137-apo272.txt \\\n",
    "--input-format PairedEndFastqManifestPhred33V2 \\\n",
    "--output-path demux-vole137.qza"
   ]
  },
  {
   "cell_type": "code",
   "execution_count": null,
   "metadata": {},
   "outputs": [],
   "source": [
    "!qiime demux summarize \\\n",
    "--i-data demux-vole137.qza \\\n",
    "--o-visualization demux-vole137.qzv"
   ]
  },
  {
   "cell_type": "code",
   "execution_count": null,
   "metadata": {},
   "outputs": [],
   "source": [
    "!qiime dada2 denoise-paired \\\n",
    "--i-demultiplexed-seqs demux-vole137.qza \\\n",
    "--p-trunc-len-f 250 \\\n",
    "--p-trunc-len-r 166 \\\n",
    "--p-trim-left-f 0 \\\n",
    "--p-trim-left-r 0 \\\n",
    "--p-n-threads 0 \\\n",
    "--o-table dada2-table-vole137.qza \\\n",
    "--o-representative-sequences dada2-rep-seqs-vole137.qza \\\n",
    "--o-denoising-stats dada2-stats-vole137.qza \\\n",
    "\n",
    "#examine dada2 feature-table\n",
    "!qiime feature-table summarize \\\n",
    "  --i-table dada2-table-vole137.qza \\\n",
    "  --o-visualization dada2-table-vole137.qzv \\\n",
    "  \n",
    "#examine representative sequences\n",
    "!qiime feature-table tabulate-seqs \\\n",
    " --i-data dada2-rep-seqs-vole137.qza \\\n",
    " --o-visualization dada2-rep-seqs-vole137.qzv\n",
    " \n",
    "#examine denoising stats\n",
    "!qiime metadata tabulate \\\n",
    " --m-input-file dada2-stats-vole137.qza \\\n",
    " --o-visualization dada2-stats-vole137.qzv"
   ]
  },
  {
   "cell_type": "markdown",
   "metadata": {},
   "source": [
    "Filter low-abundance features (with the frequency of less than 10)"
   ]
  },
  {
   "cell_type": "code",
   "execution_count": null,
   "metadata": {},
   "outputs": [],
   "source": [
    "!qiime feature-table filter-features \\\n",
    "  --i-table dada2-table-vole137.qza \\\n",
    "  --p-min-frequency 10 \\\n",
    "  --o-filtered-table dada2-table-filt10-vole137.qza\n",
    "  \n",
    "#summarize the filtered10 feature table\n",
    "!qiime feature-table summarize \\\n",
    "  --i-table dada2-table-filt10-vole137.qza \\\n",
    "  --o-visualization dada2-table-filt10-vole137.qzv \\"
   ]
  },
  {
   "cell_type": "code",
   "execution_count": null,
   "metadata": {},
   "outputs": [],
   "source": [
    "#make alpha-rarefaction plot and estimate community coverage\n",
    "#median value was taken as a max-depth parameter\n",
    "!qiime diversity alpha-rarefaction \\\n",
    " --i-table dada2-table-filt10-vole137.qza \\\n",
    " --p-max-depth 31066 \\\n",
    " --p-metrics shannon \\\n",
    " --p-metrics observed_otus \\\n",
    " --m-metadata-file metadata-vole137-apo272.txt \\\n",
    " --o-visualization alpha-rare-dada2-table-filt10-vole137.qzv"
   ]
  },
  {
   "cell_type": "code",
   "execution_count": null,
   "metadata": {},
   "outputs": [],
   "source": [
    "#the same 10553 reads/sample rarefaction depth was applied for comparison\n",
    "!qiime diversity core-metrics \\\n",
    "  --i-table dada2-table-filt10-vole137.qza \\\n",
    "  --p-sampling-depth 10553 \\\n",
    "  --m-metadata-file metadata-vole137-apo272.txt \\\n",
    "  --output-dir core-metrics-filt10-vole137-results/"
   ]
  },
  {
   "cell_type": "markdown",
   "metadata": {},
   "source": [
    "Merge this filtered and rarefied vole feature-table with the feature-table with all the 272 mice samples ('filtered10', 'rarefied' dada2 feature-table described above). Also, merge their associated representative sequences. This is possible because the feature (ASVs) hashed ids generated in each run of dada2 are directly comparable (in this case, the feature ids are the MD5 hash of the sequence defining the feature). **Note** that the 'apo272-original-files' directory contains the original mice data files generated using scripts described above. Note that the '-vole137' was added to the 'core-metrics-filt10-vole137-results/rarefied_table.qza' file name for clarity and unique files name list (e.g. resulted in 'rarefied_table-vole137.qza')."
   ]
  },
  {
   "cell_type": "code",
   "execution_count": null,
   "metadata": {},
   "outputs": [],
   "source": [
    "#merge tables\n",
    "!qiime feature-table merge \\\n",
    "  --i-tables core-metrics-filt10-vole137-results/rarefied_table-vole137.qza \\\n",
    "  --i-tables apo272-original-files/rarefied_table.qza \\\n",
    "  --o-merged-table merged-dada2-filt10-raref-table-vole137-apo272.qza\n",
    "\n",
    "#merge rep-seqs\n",
    "!qiime feature-table merge-seqs \\\n",
    "  --i-data dada2-rep-seqs-vole137.qza \\\n",
    "  --i-data apo272-original-files/apo272-rep-seqs-dada2.qza \\\n",
    "  --o-merged-data merged-dada2-rep-seqs-vole137-apo272.qza\n",
    "\n",
    "\n",
    "#examine outputs\n",
    "#examine merged dada2 feature-table\n",
    "!qiime feature-table summarize \\\n",
    "  --i-table merged-dada2-filt10-raref-table-vole137-apo272.qza \\\n",
    "  --m-sample-metadata-file metadata-vole137-apo272.txt \\\n",
    "  --o-visualization merged-dada2-filt10-raref-table-vole137-apo272.qzv \\\n",
    "  \n",
    "#examine merged representative sequences\n",
    "!qiime feature-table tabulate-seqs \\\n",
    " --i-data merged-dada2-rep-seqs-vole137-apo272.qza \\\n",
    " --o-visualization merged-dada2-rep-seqs-vole137-apo272.qzv"
   ]
  },
  {
   "cell_type": "code",
   "execution_count": null,
   "metadata": {},
   "outputs": [],
   "source": [
    "!qiime diversity core-metrics \\\n",
    "  --i-table merged-dada2-filt10-raref-table-vole137-apo272.qza \\\n",
    "  --p-sampling-depth 10553 \\\n",
    "  --m-metadata-file metadata-vole137-apo272.txt \\\n",
    "  --output-dir core-metrics-merged-filt10-vole137-apo272-results/"
   ]
  },
  {
   "cell_type": "markdown",
   "metadata": {},
   "source": [
    "Repeat the same merging procedure, but use the 'chernobyl142.qza' data set instead of all the data. This is because this approach above shows that the strongest signal comes from the difference between species (from Europe vs. from Japan), and it is difficult to make any inference on the effects of the treatment (e.g. radiation exposure). Note that the '-vole137' was added to the 'core-metrics-filt10-vole137-results/rarefied_table.qza' file name for clarity and unique files name list (e.g. resulted in 'rarefied_table-vole137.qza')."
   ]
  },
  {
   "cell_type": "code",
   "execution_count": null,
   "metadata": {},
   "outputs": [],
   "source": [
    "#merge tables\n",
    "!qiime feature-table merge \\\n",
    "  --i-tables core-metrics-filt10-vole137-results/rarefied_table-vole137.qza \\\n",
    "  --i-tables apo272-original-files/rarefied_table_chernobyl142.qza \\\n",
    "  --o-merged-table cez-merged-dada2-filt10-raref-table-vole137-apo142.qza"
   ]
  },
  {
   "cell_type": "code",
   "execution_count": null,
   "metadata": {},
   "outputs": [],
   "source": [
    "#summarize\n",
    "!qiime feature-table summarize \\\n",
    "  --i-table cez-merged-dada2-filt10-raref-table-vole137-apo142.qza \\\n",
    "  --m-sample-metadata-file metadata-vole137-apo272.txt \\\n",
    "  --o-visualization cez-merged-dada2-filt10-raref-table-vole137-apo142.qzv \\"
   ]
  },
  {
   "cell_type": "code",
   "execution_count": null,
   "metadata": {
    "scrolled": true
   },
   "outputs": [],
   "source": [
    "!qiime diversity core-metrics \\\n",
    "  --i-table cez-merged-dada2-filt10-raref-table-vole137-apo142.qza \\\n",
    "  --p-sampling-depth 10553 \\\n",
    "  --m-metadata-file metadata-vole137-apo272.txt \\\n",
    "  --output-dir core-metrics-merged-filt10-vole137-apo142-CEZ-results/"
   ]
  },
  {
   "cell_type": "markdown",
   "metadata": {},
   "source": [
    "Note that despite the fact that voles and mice clearly characterised by species-specific gut microbiota profiles (likely because they share only few ASVs), all these species also characterised by significant treatment effects (note that only the non-phylogenetic beta diversity metrics were used for comparison)."
   ]
  },
  {
   "cell_type": "code",
   "execution_count": null,
   "metadata": {},
   "outputs": [],
   "source": [
    "!qiime diversity adonis \\\n",
    "--i-distance-matrix core-metrics-merged-filt10-vole137-apo142-CEZ-results/bray_curtis_distance_matrix.qza \\\n",
    "--m-metadata-file metadata-vole137-apo272.txt \\\n",
    "--p-formula \"HostSpecies+Treatment\" \\\n",
    "--o-visualization core-metrics-merged-filt10-vole137-apo142-CEZ-results/bray-adonis-HostSpecies-Treatment.qzv"
   ]
  },
  {
   "cell_type": "code",
   "execution_count": null,
   "metadata": {},
   "outputs": [],
   "source": [
    "!qiime diversity adonis \\\n",
    "--i-distance-matrix core-metrics-merged-filt10-vole137-apo142-CEZ-results/jaccard_distance_matrix.qza \\\n",
    "--m-metadata-file metadata-vole137-apo272.txt \\\n",
    "--p-formula \"HostSpecies+Treatment\" \\\n",
    "--o-visualization core-metrics-merged-filt10-vole137-apo142-CEZ-results/jaccard-adonis-HostSpecies-Treatment.qzv"
   ]
  },
  {
   "cell_type": "markdown",
   "metadata": {},
   "source": [
    "## effects of frequency-based feature-table filtering\n",
    "\n",
    "Examine the effects of frequency-based feature-table filtering (e.g. filtering of the low-abundance features; compare with vs. without 'filter10') on the alpha and beta diveristy estmates."
   ]
  },
  {
   "cell_type": "code",
   "execution_count": null,
   "metadata": {},
   "outputs": [],
   "source": [
    "#rarefy the original apo272 table to the same 10553 reads/sample\n",
    "!qiime feature-table rarefy \\\n",
    "--i-table apo272-original-files/apo272-table-dada2.qza \\\n",
    "--p-sampling-depth 10553 \\\n",
    "--o-rarefied-table apo272-original-files/apo272-table-dada2-raref10553-orig.qza\n",
    "\n",
    "#examine feature-table\n",
    "!qiime feature-table summarize \\\n",
    "--i-table apo272-original-files/apo272-table-dada2-raref10553-orig.qza \\\n",
    "--o-visualization apo272-original-files/apo272-table-dada2-raref10553-orig.qzv\n",
    "\n",
    "#compute non-phylogenetic alpha-diversity metrics\n",
    "!qiime diversity alpha \\\n",
    "--i-table apo272-original-files/apo272-table-dada2-raref10553-orig.qza \\\n",
    "--p-metric 'observed_otus' \\\n",
    "--output-dir apo272-original-files/adiv-orig-apo272"
   ]
  },
  {
   "cell_type": "markdown",
   "metadata": {},
   "source": [
    "Run the core-metrics-phylogenetic pipeline on this 'original' data in order to examine the effects of filtering also on beta diversity metrics (using Mantel tests)."
   ]
  },
  {
   "cell_type": "code",
   "execution_count": null,
   "metadata": {
    "scrolled": true
   },
   "outputs": [],
   "source": [
    "!qiime diversity core-metrics-phylogenetic \\\n",
    "  --i-phylogeny apo272-original-files/dada2-apo272/rooted-apo272-tree-dada2.qza \\\n",
    "  --i-table apo272-original-files/apo272-table-dada2-raref10553-orig.qza \\\n",
    "  --p-sampling-depth 10553 \\\n",
    "  --m-metadata-file apo272-original-files/apodemus_metadata181219_rev1ME.txt \\\n",
    "  --output-dir apo272-original-files/core-metrics-apo272-dada2-orig-results/"
   ]
  },
  {
   "cell_type": "code",
   "execution_count": null,
   "metadata": {},
   "outputs": [],
   "source": [
    "#sanity check the 'rarefied' feature table generated in the core-metrics pipeline above\n",
    "#examine feature-table\n",
    "!qiime feature-table summarize \\\n",
    "--i-table apo272-original-files/core-metrics-apo272-dada2-orig-results/rarefied_table.qza \\\n",
    "--o-visualization apo272-original-files/core-metrics-apo272-dada2-orig-results/rarefied_table.qzv \\"
   ]
  },
  {
   "cell_type": "markdown",
   "metadata": {},
   "source": [
    "Run Mantel tests to examine consistency of the beta diversity results to the frequency-based feature-table filtering (e.g. 'filter10')."
   ]
  },
  {
   "cell_type": "code",
   "execution_count": null,
   "metadata": {},
   "outputs": [],
   "source": [
    "!qiime diversity mantel \\\n",
    "--i-dm1 apo272-original-files/core-metrics-apo272-dada2-orig-results/bray_curtis_distance_matrix.qza \\\n",
    "--i-dm2 apo272-original-files/dada2-apo272/core-metrics-apo272-dada2-filtered10-results/bray_curtis_distance_matrix.qza \\\n",
    "--p-method spearman \\\n",
    "--p-permutations 999 \\\n",
    "--p-label1 'Original Distance Matrix' \\\n",
    "--p-label2 'Filtered Distance Matrix' \\\n",
    "--o-visualization apo272-original-files/bdiv-orig-apo272/bray-filt10test-mantel.qzv"
   ]
  },
  {
   "cell_type": "code",
   "execution_count": null,
   "metadata": {},
   "outputs": [],
   "source": [
    "!qiime diversity mantel \\\n",
    "--i-dm1 apo272-original-files/core-metrics-apo272-dada2-orig-results/jaccard_distance_matrix.qza \\\n",
    "--i-dm2 apo272-original-files/dada2-apo272/core-metrics-apo272-dada2-filtered10-results/jaccard_distance_matrix.qza \\\n",
    "--p-method spearman \\\n",
    "--p-permutations 999 \\\n",
    "--p-label1 'Original Distance Matrix' \\\n",
    "--p-label2 'Filtered Distance Matrix' \\\n",
    "--o-visualization apo272-original-files/bdiv-orig-apo272/jaccard-filt10test-mantel.qzv"
   ]
  },
  {
   "cell_type": "code",
   "execution_count": null,
   "metadata": {},
   "outputs": [],
   "source": [
    "!qiime diversity mantel \\\n",
    "--i-dm1 apo272-original-files/core-metrics-apo272-dada2-orig-results/unweighted_unifrac_distance_matrix.qza \\\n",
    "--i-dm2 apo272-original-files/dada2-apo272/core-metrics-apo272-dada2-filtered10-results/unweighted_unifrac_distance_matrix.qza \\\n",
    "--p-method spearman \\\n",
    "--p-permutations 999 \\\n",
    "--p-label1 'Original Distance Matrix' \\\n",
    "--p-label2 'Filtered Distance Matrix' \\\n",
    "--o-visualization apo272-original-files/bdiv-orig-apo272/unwUF-filt10test-mantel.qzv"
   ]
  },
  {
   "cell_type": "code",
   "execution_count": null,
   "metadata": {},
   "outputs": [],
   "source": [
    "!qiime diversity mantel \\\n",
    "--i-dm1 apo272-original-files/core-metrics-apo272-dada2-orig-results/weighted_unifrac_distance_matrix.qza \\\n",
    "--i-dm2 apo272-original-files/dada2-apo272/core-metrics-apo272-dada2-filtered10-results/weighted_unifrac_distance_matrix.qza \\\n",
    "--p-method spearman \\\n",
    "--p-permutations 999 \\\n",
    "--p-label1 'Original Distance Matrix' \\\n",
    "--p-label2 'Filtered Distance Matrix' \\\n",
    "--o-visualization apo272-original-files/bdiv-orig-apo272/wUF-filt10test-mantel.qzv"
   ]
  },
  {
   "cell_type": "markdown",
   "metadata": {},
   "source": [
    "## ds-fdr differential abundance testing\n",
    "\n",
    "Run the [ds-fdr plugin](https://forum.qiime2.org/t/q2-dsfdr-community-tutorial/5559) within the qiime2 to identify differentially abundant features within the *Apodemus* data set. Note that the ds-fdr method can test differences between two groups only, read the tutorial notes to help results interpretation. Also note that prior to run the ds-fdr it first needs to be installed as a qiime2 dev plugin via pip install (see more details [here](https://forum.qiime2.org/t/q2-dsfdr-community-tutorial/5559)). This was run with the qiime2 version change to 2020.2."
   ]
  },
  {
   "cell_type": "markdown",
   "metadata": {},
   "source": [
    "The parameters for the number of permutations and discrete FDR correction level (e.g. alpha) were adopted from the settings used in the following [paper](https://msystems.asm.org/content/3/3/e00031-18.full)."
   ]
  },
  {
   "cell_type": "code",
   "execution_count": null,
   "metadata": {},
   "outputs": [],
   "source": [
    "!qiime dsfdr permutation-fdr \\\n",
    "--i-table rarefied_table_chernobyl115_flavicollis.qza \\\n",
    "--m-metadata-file apodemus_metadata181219.txt \\\n",
    "--m-metadata-column 'Treatment' \\\n",
    "--p-alpha 0.1 \\\n",
    "--p-permutations 10000 \\\n",
    "--o-visualization rarefied_table_chernobyl115_flavicollis_a01_p10k_dsfdr.qzv \\\n",
    "--verbose\n",
    "\n",
    "\n",
    "!qiime dsfdr permutation-fdr \\\n",
    "--i-table rarefied_table_chernobyl27_sylvaticus.qza \\\n",
    "--m-metadata-file apodemus_metadata181219.txt \\\n",
    "--m-metadata-column 'Treatment' \\\n",
    "--p-alpha 0.1 \\\n",
    "--p-permutations 10000 \\\n",
    "--o-visualization rarefied_table_chernobyl27_sylvaticus_a01_p10k_dsfdr.qzv \\\n",
    "--verbose\n",
    "\n",
    "\n",
    "!qiime dsfdr permutation-fdr \\\n",
    "--i-table rarefied_table_fukushima77_speciosus_large.qza \\\n",
    "--m-metadata-file apodemus_metadata181219.txt \\\n",
    "--m-metadata-column 'Treatment' \\\n",
    "--p-alpha 0.1 \\\n",
    "--p-permutations 10000 \\\n",
    "--o-visualization rarefied_table_fukushima77_speciosus_large_a01_p10k_dsfdr.qzv \\\n",
    "--verbose\n",
    "\n",
    "\n",
    "!qiime dsfdr permutation-fdr \\\n",
    "--i-table rarefied_table_fukushima53_argenteus_small.qza \\\n",
    "--m-metadata-file apodemus_metadata181219.txt \\\n",
    "--m-metadata-column 'Treatment' \\\n",
    "--p-alpha 0.1 \\\n",
    "--p-permutations 10000 \\\n",
    "--o-visualization rarefied_table_fukushima53_argenteus_small_a01_p10k_dsfdr.qzv \\\n",
    "--verbose"
   ]
  }
 ],
 "metadata": {
  "kernelspec": {
   "display_name": "Python 3",
   "language": "python",
   "name": "python3"
  },
  "language_info": {
   "codemirror_mode": {
    "name": "ipython",
    "version": 3
   },
   "file_extension": ".py",
   "mimetype": "text/x-python",
   "name": "python",
   "nbconvert_exporter": "python",
   "pygments_lexer": "ipython3",
   "version": "3.6.7"
  }
 },
 "nbformat": 4,
 "nbformat_minor": 2
}
